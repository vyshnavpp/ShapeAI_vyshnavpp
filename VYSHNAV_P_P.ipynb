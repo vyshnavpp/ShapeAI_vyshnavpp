{
  "nbformat": 4,
  "nbformat_minor": 0,
  "metadata": {
    "colab": {
      "name": "VYSHNAV P P.ipynb",
      "provenance": [],
      "collapsed_sections": []
    },
    "kernelspec": {
      "name": "python3",
      "display_name": "Python 3"
    },
    "language_info": {
      "name": "python"
    }
  },
  "cells": [
    {
      "cell_type": "code",
      "metadata": {
        "id": "xNztBeXZpkM8"
      },
      "source": [
        "from keras.datasets import mnist\n",
        "data=mnist.load_data()\n",
        "(x_train,y_train),(x_test,y_test)=data\n",
        "x_train=x_train.reshape((x_train.shape[0],28*28)).astype('float32')\n",
        "x_test=x_test.reshape((x_test.shape[0],28*28)).astype('float32')\n",
        "x_train=x_train/255\n",
        "x_test=x_test/255\n",
        "\n",
        "\n",
        "\n",
        "\n"
      ],
      "execution_count": 42,
      "outputs": []
    },
    {
      "cell_type": "code",
      "metadata": {
        "id": "vXCn-Lp_3cxS"
      },
      "source": [
        "from keras.utils import np_utils\n",
        "y_train=np_utils.to_categorical(y_train)\n",
        "y_test=np_utils.to_categorical(y_test)"
      ],
      "execution_count": 43,
      "outputs": []
    },
    {
      "cell_type": "code",
      "metadata": {
        "id": "ShbbTb68y9Lp"
      },
      "source": [
        "from keras.models import Sequential\n",
        "from keras.layers import Dense\n",
        "from keras.layers import Dropout\n",
        "\n",
        "\n",
        "model=Sequential()\n",
        "\n",
        "\n",
        "model.add(Dense(32,input_dim=28*28, activation='relu'))\n",
        "\n",
        "\n",
        "model.add(Dense(64,activation='relu'))\n",
        "\n",
        "\n",
        "\n",
        "model.add(Dense(10,activation='softmax'))\n",
        "\n"
      ],
      "execution_count": 44,
      "outputs": []
    },
    {
      "cell_type": "code",
      "metadata": {
        "id": "xDhWp9H2_K94"
      },
      "source": [
        " \n",
        "model.compile(loss='categorical_crossentropy', optimizer='adam', metrics=['accuracy'])"
      ],
      "execution_count": 47,
      "outputs": []
    },
    {
      "cell_type": "code",
      "metadata": {
        "id": "aO4WAOmb7n3z"
      },
      "source": [
        "\n",
        "\n",
        "model.summary()"
      ],
      "execution_count": null,
      "outputs": []
    },
    {
      "cell_type": "code",
      "metadata": {
        "id": "BAofFxLr6k6Z"
      },
      "source": [
        "\n",
        "\n",
        "model.fit(x_train,y_train, epochs=10, batch_size=100)"
      ],
      "execution_count": null,
      "outputs": []
    },
    {
      "cell_type": "code",
      "metadata": {
        "id": "jNHyUV7V60zN"
      },
      "source": [
        "scores=model.evaluate(x_test,y_test)\n",
        "print(scores) "
      ],
      "execution_count": null,
      "outputs": []
    }
  ]
}